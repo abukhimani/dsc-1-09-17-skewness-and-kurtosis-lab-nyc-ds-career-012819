{
 "cells": [
  {
   "cell_type": "markdown",
   "metadata": {},
   "source": [
    "# Skewness and Kurtosis - Lab"
   ]
  },
  {
   "cell_type": "markdown",
   "metadata": {},
   "source": [
    "## Introduction\n",
    "\n",
    "In this lab, we shall look at calculating skewness and kurtosis for a given dataset in python and SciPy. \n",
    "\n",
    "## Objectives\n",
    "You will be able to:\n",
    "* Measure, visualize, and interpret the kurtosis of a dataset\n",
    "* Measure, visualize, and interpret the skewness of a dataset"
   ]
  },
  {
   "cell_type": "markdown",
   "metadata": {},
   "source": [
    "## Bring in SciPy\n",
    "In the previous lesson, we have seen formulas for calculating skewness and kurtosis for a given dataset. Scipy comes packaged with these functions and  provides an easy way to calculate these two quantities, see [scipy.stats.kurtosis](https://docs.scipy.org/doc/scipy/reference/generated/scipy.stats.kurtosis.html#scipy.stats.kurtosis) and [scipy.stats.skew](scipy.stats.skew). Check out the official SciPy documentation for digging deeper into this. Right now we can use format: \n",
    "> **scipy.stats.kurtosis(x)**\n",
    "\n",
    "> **scipy.stats.skew(x)**\n",
    "\n",
    "Where x is a random continuous variable. \n",
    "\n",
    "We shall generate two synthetic datasets and measure/visualize and compare their skew and kurtosis in this lab. So lets get to it."
   ]
  },
  {
   "cell_type": "code",
   "execution_count": 15,
   "metadata": {},
   "outputs": [],
   "source": [
    "# Import required libraries\n",
    "import numpy as np\n",
    "import matplotlib.pyplot as plt\n",
    "\n",
    "from scipy.stats import kurtosis, skew"
   ]
  },
  {
   "cell_type": "markdown",
   "metadata": {},
   "source": [
    "## Take 1\n",
    "Perform following steps\n",
    "* Generate a random normal variable `x_random` in numpy with 10,000 values. Set the mean value to 0 and standard deviation to 2\n",
    "* Plot a histogram for data, set bins to `auto` (default). \n",
    "* Calculate the skewness and kurtosis for this data distribution using above functions. \n",
    "* Record your observations about calculated values and shape of the data. "
   ]
  },
  {
   "cell_type": "code",
   "execution_count": 16,
   "metadata": {},
   "outputs": [
    {
     "data": {
      "text/plain": [
       "(array([  1.,   0.,   2.,   3.,   4.,   4.,   7.,   4.,  20.,  27.,  26.,\n",
       "         38.,  62.,  64.,  70.,  87., 130., 159., 194., 199., 238., 285.,\n",
       "        332., 342., 389., 459., 441., 449., 476., 515., 477., 446., 488.,\n",
       "        456., 412., 415., 364., 317., 291., 264., 215., 188., 138., 116.,\n",
       "         98.,  80.,  44.,  46.,  37.,  25.,  22.,   9.,  11.,   5.,   2.,\n",
       "          3.,   0.,   3.,   1.]),\n",
       " array([-7.45866240e+00, -7.21007505e+00, -6.96148770e+00, -6.71290035e+00,\n",
       "        -6.46431300e+00, -6.21572565e+00, -5.96713830e+00, -5.71855095e+00,\n",
       "        -5.46996360e+00, -5.22137625e+00, -4.97278890e+00, -4.72420155e+00,\n",
       "        -4.47561420e+00, -4.22702685e+00, -3.97843950e+00, -3.72985215e+00,\n",
       "        -3.48126480e+00, -3.23267745e+00, -2.98409010e+00, -2.73550275e+00,\n",
       "        -2.48691540e+00, -2.23832805e+00, -1.98974070e+00, -1.74115335e+00,\n",
       "        -1.49256600e+00, -1.24397865e+00, -9.95391296e-01, -7.46803946e-01,\n",
       "        -4.98216596e-01, -2.49629246e-01, -1.04189544e-03,  2.47545455e-01,\n",
       "         4.96132805e-01,  7.44720155e-01,  9.93307505e-01,  1.24189486e+00,\n",
       "         1.49048221e+00,  1.73906956e+00,  1.98765691e+00,  2.23624426e+00,\n",
       "         2.48483161e+00,  2.73341896e+00,  2.98200631e+00,  3.23059366e+00,\n",
       "         3.47918101e+00,  3.72776836e+00,  3.97635571e+00,  4.22494306e+00,\n",
       "         4.47353041e+00,  4.72211776e+00,  4.97070511e+00,  5.21929246e+00,\n",
       "         5.46787981e+00,  5.71646716e+00,  5.96505451e+00,  6.21364186e+00,\n",
       "         6.46222921e+00,  6.71081656e+00,  6.95940391e+00,  7.20799126e+00]),\n",
       " <a list of 59 Patch objects>)"
      ]
     },
     "execution_count": 16,
     "metadata": {},
     "output_type": "execute_result"
    },
    {
     "data": {
      "image/png": "[encoded data removed]",
      "text/plain": [
       "<Figure size 432x288 with 1 Axes>"
      ]
     },
     "metadata": {
      "needs_background": "light"
     },
     "output_type": "display_data"
    }
   ],
   "source": [
    "mean = 0\n",
    "sigma = 2\n",
    "N = 10000\n",
    "x_random = np.random.normal(mean, sigma, N)\n",
    "\n",
    "plt.hist(x_random, bins='auto')\n",
    "\n",
    "# Skewness = -0.0025781248189666343\n",
    "# kurtosis = 0.03976806960642154\n"
   ]
  },
  {
   "cell_type": "code",
   "execution_count": 17,
   "metadata": {},
   "outputs": [
    {
     "data": {
      "text/plain": [
       "(-0.04038175549375689, -0.06896574561845137)"
      ]
     },
     "execution_count": 17,
     "metadata": {},
     "output_type": "execute_result"
    }
   ],
   "source": [
    "kurtosis = kurtosis(x_random)\n",
    "skewness = skew(x_random)\n",
    "\n",
    "skewness, kurtosis"
   ]
  },
  {
   "cell_type": "code",
   "execution_count": null,
   "metadata": {
    "collapsed": true
   },
   "outputs": [],
   "source": [
    "# Your observations here \n",
    "\n",
    "\n",
    "\n",
    "\n",
    "\n",
    "\n",
    "#"
   ]
  },
  {
   "cell_type": "markdown",
   "metadata": {},
   "source": [
    "## Take 2\n",
    "\n",
    "Let's generate another distribution "
   ]
  },
  {
   "cell_type": "code",
   "execution_count": 18,
   "metadata": {},
   "outputs": [],
   "source": [
    "x = np.linspace( -5, 5, 10000 )\n",
    "y = 1./(np.sqrt(2.*np.pi)) * np.exp( -.5*(x)**2  )  # normal distribution"
   ]
  },
  {
   "cell_type": "markdown",
   "metadata": {},
   "source": [
    "Just like above, perform following steps\n",
    "\n",
    "* Plot a histogram for data (y), set bins to auto (default).\n",
    "* Calculate the skewness and kurtosis for this data distribution using above functions.\n",
    "* Record your observations about calculated values and shape of the data."
   ]
  },
  {
   "cell_type": "code",
   "execution_count": 19,
   "metadata": {},
   "outputs": [
    {
     "data": {
      "text/plain": [
       "(array([4958.,  584.,  380.,  292.,  244.,  212.,  190.,  176.,  164.,\n",
       "         154.,  148.,  144.,  140.,  138.,  138.,  138.,  140.,  144.,\n",
       "         150.,  158.,  174.,  200.,  250.,  584.]),\n",
       " array([1.48671951e-06, 1.66240177e-02, 3.32465487e-02, 4.98690797e-02,\n",
       "        6.64916107e-02, 8.31141417e-02, 9.97366727e-02, 1.16359204e-01,\n",
       "        1.32981735e-01, 1.49604266e-01, 1.66226797e-01, 1.82849328e-01,\n",
       "        1.99471859e-01, 2.16094390e-01, 2.32716921e-01, 2.49339452e-01,\n",
       "        2.65961983e-01, 2.82584514e-01, 2.99207045e-01, 3.15829576e-01,\n",
       "        3.32452107e-01, 3.49074638e-01, 3.65697169e-01, 3.82319700e-01,\n",
       "        3.98942231e-01]),\n",
       " <a list of 24 Patch objects>)"
      ]
     },
     "execution_count": 19,
     "metadata": {},
     "output_type": "execute_result"
    },
    {
     "data": {
      "image/png": "[encoded data removed]",
      "text/plain": [
       "<Figure size 432x288 with 1 Axes>"
      ]
     },
     "metadata": {
      "needs_background": "light"
     },
     "output_type": "display_data"
    }
   ],
   "source": [
    "plt.hist(y, bins='auto')\n",
    "\n",
    "# Skewness = 1.109511549276228\n",
    "# kurtosis = -0.31039027765889804"
   ]
  },
  {
   "cell_type": "code",
   "execution_count": null,
   "metadata": {},
   "outputs": [],
   "source": [
    "# Your observations here \n",
    "\n",
    "\n",
    "\n",
    "\n",
    "\n",
    "\n",
    "\n",
    "#"
   ]
  },
  {
   "cell_type": "markdown",
   "metadata": {},
   "source": [
    "## Level up (Optional)"
   ]
  },
  {
   "cell_type": "markdown",
   "metadata": {},
   "source": [
    "Use the formulas given in th previous lesson to calculate skewness and kurtosis with numpy only. Compare your results to the ones shown using Scipy. Do you see any differences in the results? Try at least one other method to calculate skewness and compare the results to previous ones. "
   ]
  },
  {
   "cell_type": "markdown",
   "metadata": {},
   "source": [
    "## Summary\n",
    "\n",
    "In this lesson we learned how to calculate, visualize and analyze the skewness and kurtosis for any given distribution. We worked with synthetic datasets at this stage to get the concepts cleared up. Later we shall try these techniques on real datasets to see if they are fit for analysis (or not). "
   ]
  }
 ],
 "metadata": {
  "kernelspec": {
   "display_name": "Python 3",
   "language": "python",
   "name": "python3"
  },
  "language_info": {
   "codemirror_mode": {
    "name": "ipython",
    "version": 3
   },
   "file_extension": ".py",
   "mimetype": "text/x-python",
   "name": "python",
   "nbconvert_exporter": "python",
   "pygments_lexer": "ipython3",
   "version": "3.6.6"
  }
 },
 "nbformat": 4,
 "nbformat_minor": 2
}
